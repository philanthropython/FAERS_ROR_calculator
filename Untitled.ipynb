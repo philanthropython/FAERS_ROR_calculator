{
 "cells": [
  {
   "cell_type": "code",
   "execution_count": null,
   "metadata": {},
   "outputs": [],
   "source": [
    "!mkdir tmp"
   ]
  },
  {
   "cell_type": "code",
   "execution_count": 3,
   "metadata": {},
   "outputs": [
    {
     "name": "stdout",
     "output_type": "stream",
     "text": [
      "--2021-10-15 02:52:15--  https://fis.fda.gov/content/Exports/faers_ascii_2021Q1.zip\n",
      "Resolving fis.fda.gov (fis.fda.gov)... 150.148.132.93, 2607:f220:300:8008::5d\n",
      "Connecting to fis.fda.gov (fis.fda.gov)|150.148.132.93|:443... connected.\n",
      "HTTP request sent, awaiting response... 200 OK\n",
      "Length: unspecified [application/zip]\n",
      "Saving to: ‘tmp/faers_ascii_2021Q1.zip.2’\n",
      "\n",
      "faers_ascii_2021Q1.     [   <=>              ]  40.20M   382KB/s               ^C\n",
      "--2021-10-15 02:54:06--  https://fis.fda.gov/content/Exports/faers_ascii_2021Q2.zip\n",
      "Resolving fis.fda.gov (fis.fda.gov)... 150.148.132.93, 2607:f220:300:8008::5d\n",
      "Connecting to fis.fda.gov (fis.fda.gov)|150.148.132.93|:443... connected.\n",
      "HTTP request sent, awaiting response... 200 OK\n",
      "Length: unspecified [application/zip]\n",
      "Saving to: ‘tmp/faers_ascii_2021Q2.zip.1’\n",
      "\n",
      "faers_ascii_2021Q2.     [            <=>     ]   1.23M   354KB/s               ^C\n"
     ]
    }
   ],
   "source": [
    "!wget -P tmp 'https://fis.fda.gov/content/Exports/faers_ascii_2021Q1.zip'\n",
    "!wget -P tmp 'https://fis.fda.gov/content/Exports/faers_ascii_2021Q2.zip'"
   ]
  }
 ],
 "metadata": {
  "kernelspec": {
   "display_name": "Python 3",
   "language": "python",
   "name": "python3"
  },
  "language_info": {
   "codemirror_mode": {
    "name": "ipython",
    "version": 3
   },
   "file_extension": ".py",
   "mimetype": "text/x-python",
   "name": "python",
   "nbconvert_exporter": "python",
   "pygments_lexer": "ipython3",
   "version": "3.7.3"
  }
 },
 "nbformat": 4,
 "nbformat_minor": 4
}
