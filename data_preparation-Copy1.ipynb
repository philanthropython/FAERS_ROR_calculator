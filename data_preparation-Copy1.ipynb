{
 "cells": [
  {
   "cell_type": "markdown",
   "metadata": {},
   "source": [
    "# データ読み込み、整形、出力 "
   ]
  },
  {
   "cell_type": "code",
   "execution_count": 1,
   "metadata": {},
   "outputs": [
    {
     "name": "stdout",
     "output_type": "stream",
     "text": [
      "CPU times: user 346 ms, sys: 198 ms, total: 544 ms\n",
      "Wall time: 361 ms\n"
     ]
    }
   ],
   "source": [
    "%%time\n",
    "import os, sys\n",
    "sys.path.append(os.path.join(os.path.dirname('__file__'), '../FAERS_ROR_calculator/'))\n",
    "\n",
    "import numpy as np\n",
    "import pandas as pd\n",
    "from faerstools2 import FAERS\n",
    "\n",
    "params = {\n",
    "    'FAERS_path': 'data/txt/',\n",
    "    'quarters': [\n",
    "        '2015q1', '2015q2', '2015q3', '2015q4',\n",
    "        '2016q1', '2016q2', '2016q3', '2016q4',\n",
    "        '2017q1', '2017q2', '2017q3', '2017q4',\n",
    "        '2018q1', '2018q2', '2018q3', '2018q4',\n",
    "        '2019q1', '2019q2', '2019q3', '2019q4',\n",
    "        '2020q1', '2020q2', '2020q3', '2020q4',\n",
    "        '2021q1', '2021q2', '2021q3', '2021q4',\n",
    "        '2022q1', '2022q2', '2022q3',\n",
    "    ],\n",
    "    'keep': 'last', # 'first' or 'last'\n",
    "    'ATC_path': 'masters/ATC2019.csv',\n",
    "    'MedDRA_path': 'masters/MedDRA_v21.1j.csv',\n",
    "    'pkl_dir': 'data/pkl/test/'\n",
    "}\n",
    "\n",
    "f = FAERS(params['pkl_dir'])"
   ]
  },
  {
   "cell_type": "code",
   "execution_count": 2,
   "metadata": {},
   "outputs": [
    {
     "name": "stdout",
     "output_type": "stream",
     "text": [
      "1: loading files...\n"
     ]
    },
    {
     "ename": "FileNotFoundError",
     "evalue": "[Errno 2] No such file or directory: 'data/txt/2018q1/DEMO18Q1.txt'",
     "output_type": "error",
     "traceback": [
      "\u001b[0;31m---------------------------------------------------------------------------\u001b[0m",
      "\u001b[0;31mFileNotFoundError\u001b[0m                         Traceback (most recent call last)",
      "\u001b[0;32m<timed eval>\u001b[0m in \u001b[0;36m<module>\u001b[0;34m\u001b[0m\n",
      "\u001b[0;32m/mnt/d/Users/yuyas/Documents/FAERS_ROR_calculator/faerstools2.py\u001b[0m in \u001b[0;36mload_files\u001b[0;34m(self, params, out_dir)\u001b[0m\n\u001b[1;32m     33\u001b[0m         \u001b[0;32mif\u001b[0m \u001b[0;32mnot\u001b[0m \u001b[0mout_dir\u001b[0m\u001b[0;34m:\u001b[0m \u001b[0mout_dir\u001b[0m \u001b[0;34m=\u001b[0m \u001b[0mself\u001b[0m\u001b[0;34m.\u001b[0m\u001b[0mpkl_dir\u001b[0m\u001b[0;34m\u001b[0m\u001b[0;34m\u001b[0m\u001b[0m\n\u001b[1;32m     34\u001b[0m \u001b[0;34m\u001b[0m\u001b[0m\n\u001b[0;32m---> 35\u001b[0;31m         \u001b[0mself\u001b[0m\u001b[0;34m.\u001b[0m\u001b[0mDEMO\u001b[0m \u001b[0;34m=\u001b[0m \u001b[0mself\u001b[0m\u001b[0;34m.\u001b[0m\u001b[0m_load_FAERS\u001b[0m\u001b[0;34m(\u001b[0m\u001b[0;34m'DEMO'\u001b[0m\u001b[0;34m,\u001b[0m \u001b[0mcols\u001b[0m\u001b[0;34m=\u001b[0m\u001b[0;34m{\u001b[0m\u001b[0;34m'primaryid'\u001b[0m\u001b[0;34m:\u001b[0m\u001b[0;34m'int32'\u001b[0m\u001b[0;34m,\u001b[0m \u001b[0;34m'caseid'\u001b[0m\u001b[0;34m:\u001b[0m\u001b[0;34m'category'\u001b[0m\u001b[0;34m,\u001b[0m \u001b[0;34m'caseversion'\u001b[0m\u001b[0;34m:\u001b[0m\u001b[0;34m'category'\u001b[0m\u001b[0;34m}\u001b[0m\u001b[0;34m)\u001b[0m\u001b[0;34m\u001b[0m\u001b[0;34m\u001b[0m\u001b[0m\n\u001b[0m\u001b[1;32m     36\u001b[0m         self.DRUG = self._load_FAERS('DRUG', cols={'primaryid':'int32', 'prod_ai':'category'}, \n\u001b[1;32m     37\u001b[0m                                     sort={'primaryid':'asc', 'prod_ai':'asc'})\n",
      "\u001b[0;32m/mnt/d/Users/yuyas/Documents/FAERS_ROR_calculator/faerstools2.py\u001b[0m in \u001b[0;36m_load_FAERS\u001b[0;34m(self, tblname, cols, sort)\u001b[0m\n\u001b[1;32m     55\u001b[0m         \u001b[0;32mfor\u001b[0m \u001b[0mq\u001b[0m \u001b[0;32min\u001b[0m \u001b[0mself\u001b[0m\u001b[0;34m.\u001b[0m\u001b[0mquarters\u001b[0m\u001b[0;34m:\u001b[0m\u001b[0;34m\u001b[0m\u001b[0;34m\u001b[0m\u001b[0m\n\u001b[1;32m     56\u001b[0m             \u001b[0mpath\u001b[0m \u001b[0;34m=\u001b[0m \u001b[0mself\u001b[0m\u001b[0;34m.\u001b[0m\u001b[0mFAERS_path\u001b[0m \u001b[0;34m+\u001b[0m \u001b[0mq\u001b[0m \u001b[0;34m+\u001b[0m \u001b[0;34m'/'\u001b[0m \u001b[0;34m+\u001b[0m \u001b[0mtblname\u001b[0m \u001b[0;34m+\u001b[0m \u001b[0mq\u001b[0m\u001b[0;34m.\u001b[0m\u001b[0mupper\u001b[0m\u001b[0;34m(\u001b[0m\u001b[0;34m)\u001b[0m\u001b[0;34m[\u001b[0m\u001b[0;36m2\u001b[0m\u001b[0;34m:\u001b[0m\u001b[0;34m]\u001b[0m \u001b[0;34m+\u001b[0m \u001b[0;34m'.txt'\u001b[0m\u001b[0;34m\u001b[0m\u001b[0;34m\u001b[0m\u001b[0m\n\u001b[0;32m---> 57\u001b[0;31m             \u001b[0mtmp\u001b[0m \u001b[0;34m=\u001b[0m \u001b[0mpd\u001b[0m\u001b[0;34m.\u001b[0m\u001b[0mread_csv\u001b[0m\u001b[0;34m(\u001b[0m\u001b[0mpath\u001b[0m\u001b[0;34m,\u001b[0m \u001b[0mdelimiter\u001b[0m\u001b[0;34m=\u001b[0m\u001b[0;34m'$'\u001b[0m\u001b[0;34m,\u001b[0m \u001b[0musecols\u001b[0m\u001b[0;34m=\u001b[0m\u001b[0musecols\u001b[0m\u001b[0;34m,\u001b[0m \u001b[0mdtype\u001b[0m\u001b[0;34m=\u001b[0m\u001b[0mcols\u001b[0m\u001b[0;34m)\u001b[0m\u001b[0;34m\u001b[0m\u001b[0;34m\u001b[0m\u001b[0m\n\u001b[0m\u001b[1;32m     58\u001b[0m             \u001b[0mdf\u001b[0m \u001b[0;34m=\u001b[0m \u001b[0mdf\u001b[0m\u001b[0;34m.\u001b[0m\u001b[0mappend\u001b[0m\u001b[0;34m(\u001b[0m\u001b[0mtmp\u001b[0m\u001b[0;34m)\u001b[0m\u001b[0;34m\u001b[0m\u001b[0;34m\u001b[0m\u001b[0m\n\u001b[1;32m     59\u001b[0m \u001b[0;34m\u001b[0m\u001b[0m\n",
      "\u001b[0;32m~/miniconda3/lib/python3.7/site-packages/pandas/util/_decorators.py\u001b[0m in \u001b[0;36mwrapper\u001b[0;34m(*args, **kwargs)\u001b[0m\n\u001b[1;32m    309\u001b[0m                     \u001b[0mstacklevel\u001b[0m\u001b[0;34m=\u001b[0m\u001b[0mstacklevel\u001b[0m\u001b[0;34m,\u001b[0m\u001b[0;34m\u001b[0m\u001b[0;34m\u001b[0m\u001b[0m\n\u001b[1;32m    310\u001b[0m                 )\n\u001b[0;32m--> 311\u001b[0;31m             \u001b[0;32mreturn\u001b[0m \u001b[0mfunc\u001b[0m\u001b[0;34m(\u001b[0m\u001b[0;34m*\u001b[0m\u001b[0margs\u001b[0m\u001b[0;34m,\u001b[0m \u001b[0;34m**\u001b[0m\u001b[0mkwargs\u001b[0m\u001b[0;34m)\u001b[0m\u001b[0;34m\u001b[0m\u001b[0;34m\u001b[0m\u001b[0m\n\u001b[0m\u001b[1;32m    312\u001b[0m \u001b[0;34m\u001b[0m\u001b[0m\n\u001b[1;32m    313\u001b[0m         \u001b[0;32mreturn\u001b[0m \u001b[0mwrapper\u001b[0m\u001b[0;34m\u001b[0m\u001b[0;34m\u001b[0m\u001b[0m\n",
      "\u001b[0;32m~/miniconda3/lib/python3.7/site-packages/pandas/io/parsers/readers.py\u001b[0m in \u001b[0;36mread_csv\u001b[0;34m(filepath_or_buffer, sep, delimiter, header, names, index_col, usecols, squeeze, prefix, mangle_dupe_cols, dtype, engine, converters, true_values, false_values, skipinitialspace, skiprows, skipfooter, nrows, na_values, keep_default_na, na_filter, verbose, skip_blank_lines, parse_dates, infer_datetime_format, keep_date_col, date_parser, dayfirst, cache_dates, iterator, chunksize, compression, thousands, decimal, lineterminator, quotechar, quoting, doublequote, escapechar, comment, encoding, encoding_errors, dialect, error_bad_lines, warn_bad_lines, on_bad_lines, delim_whitespace, low_memory, memory_map, float_precision, storage_options)\u001b[0m\n\u001b[1;32m    584\u001b[0m     \u001b[0mkwds\u001b[0m\u001b[0;34m.\u001b[0m\u001b[0mupdate\u001b[0m\u001b[0;34m(\u001b[0m\u001b[0mkwds_defaults\u001b[0m\u001b[0;34m)\u001b[0m\u001b[0;34m\u001b[0m\u001b[0;34m\u001b[0m\u001b[0m\n\u001b[1;32m    585\u001b[0m \u001b[0;34m\u001b[0m\u001b[0m\n\u001b[0;32m--> 586\u001b[0;31m     \u001b[0;32mreturn\u001b[0m \u001b[0m_read\u001b[0m\u001b[0;34m(\u001b[0m\u001b[0mfilepath_or_buffer\u001b[0m\u001b[0;34m,\u001b[0m \u001b[0mkwds\u001b[0m\u001b[0;34m)\u001b[0m\u001b[0;34m\u001b[0m\u001b[0;34m\u001b[0m\u001b[0m\n\u001b[0m\u001b[1;32m    587\u001b[0m \u001b[0;34m\u001b[0m\u001b[0m\n\u001b[1;32m    588\u001b[0m \u001b[0;34m\u001b[0m\u001b[0m\n",
      "\u001b[0;32m~/miniconda3/lib/python3.7/site-packages/pandas/io/parsers/readers.py\u001b[0m in \u001b[0;36m_read\u001b[0;34m(filepath_or_buffer, kwds)\u001b[0m\n\u001b[1;32m    480\u001b[0m \u001b[0;34m\u001b[0m\u001b[0m\n\u001b[1;32m    481\u001b[0m     \u001b[0;31m# Create the parser.\u001b[0m\u001b[0;34m\u001b[0m\u001b[0;34m\u001b[0m\u001b[0;34m\u001b[0m\u001b[0m\n\u001b[0;32m--> 482\u001b[0;31m     \u001b[0mparser\u001b[0m \u001b[0;34m=\u001b[0m \u001b[0mTextFileReader\u001b[0m\u001b[0;34m(\u001b[0m\u001b[0mfilepath_or_buffer\u001b[0m\u001b[0;34m,\u001b[0m \u001b[0;34m**\u001b[0m\u001b[0mkwds\u001b[0m\u001b[0;34m)\u001b[0m\u001b[0;34m\u001b[0m\u001b[0;34m\u001b[0m\u001b[0m\n\u001b[0m\u001b[1;32m    483\u001b[0m \u001b[0;34m\u001b[0m\u001b[0m\n\u001b[1;32m    484\u001b[0m     \u001b[0;32mif\u001b[0m \u001b[0mchunksize\u001b[0m \u001b[0;32mor\u001b[0m \u001b[0miterator\u001b[0m\u001b[0;34m:\u001b[0m\u001b[0;34m\u001b[0m\u001b[0;34m\u001b[0m\u001b[0m\n",
      "\u001b[0;32m~/miniconda3/lib/python3.7/site-packages/pandas/io/parsers/readers.py\u001b[0m in \u001b[0;36m__init__\u001b[0;34m(self, f, engine, **kwds)\u001b[0m\n\u001b[1;32m    809\u001b[0m             \u001b[0mself\u001b[0m\u001b[0;34m.\u001b[0m\u001b[0moptions\u001b[0m\u001b[0;34m[\u001b[0m\u001b[0;34m\"has_index_names\"\u001b[0m\u001b[0;34m]\u001b[0m \u001b[0;34m=\u001b[0m \u001b[0mkwds\u001b[0m\u001b[0;34m[\u001b[0m\u001b[0;34m\"has_index_names\"\u001b[0m\u001b[0;34m]\u001b[0m\u001b[0;34m\u001b[0m\u001b[0;34m\u001b[0m\u001b[0m\n\u001b[1;32m    810\u001b[0m \u001b[0;34m\u001b[0m\u001b[0m\n\u001b[0;32m--> 811\u001b[0;31m         \u001b[0mself\u001b[0m\u001b[0;34m.\u001b[0m\u001b[0m_engine\u001b[0m \u001b[0;34m=\u001b[0m \u001b[0mself\u001b[0m\u001b[0;34m.\u001b[0m\u001b[0m_make_engine\u001b[0m\u001b[0;34m(\u001b[0m\u001b[0mself\u001b[0m\u001b[0;34m.\u001b[0m\u001b[0mengine\u001b[0m\u001b[0;34m)\u001b[0m\u001b[0;34m\u001b[0m\u001b[0;34m\u001b[0m\u001b[0m\n\u001b[0m\u001b[1;32m    812\u001b[0m \u001b[0;34m\u001b[0m\u001b[0m\n\u001b[1;32m    813\u001b[0m     \u001b[0;32mdef\u001b[0m \u001b[0mclose\u001b[0m\u001b[0;34m(\u001b[0m\u001b[0mself\u001b[0m\u001b[0;34m)\u001b[0m\u001b[0;34m:\u001b[0m\u001b[0;34m\u001b[0m\u001b[0;34m\u001b[0m\u001b[0m\n",
      "\u001b[0;32m~/miniconda3/lib/python3.7/site-packages/pandas/io/parsers/readers.py\u001b[0m in \u001b[0;36m_make_engine\u001b[0;34m(self, engine)\u001b[0m\n\u001b[1;32m   1038\u001b[0m             )\n\u001b[1;32m   1039\u001b[0m         \u001b[0;31m# error: Too many arguments for \"ParserBase\"\u001b[0m\u001b[0;34m\u001b[0m\u001b[0;34m\u001b[0m\u001b[0;34m\u001b[0m\u001b[0m\n\u001b[0;32m-> 1040\u001b[0;31m         \u001b[0;32mreturn\u001b[0m \u001b[0mmapping\u001b[0m\u001b[0;34m[\u001b[0m\u001b[0mengine\u001b[0m\u001b[0;34m]\u001b[0m\u001b[0;34m(\u001b[0m\u001b[0mself\u001b[0m\u001b[0;34m.\u001b[0m\u001b[0mf\u001b[0m\u001b[0;34m,\u001b[0m \u001b[0;34m**\u001b[0m\u001b[0mself\u001b[0m\u001b[0;34m.\u001b[0m\u001b[0moptions\u001b[0m\u001b[0;34m)\u001b[0m  \u001b[0;31m# type: ignore[call-arg]\u001b[0m\u001b[0;34m\u001b[0m\u001b[0;34m\u001b[0m\u001b[0m\n\u001b[0m\u001b[1;32m   1041\u001b[0m \u001b[0;34m\u001b[0m\u001b[0m\n\u001b[1;32m   1042\u001b[0m     \u001b[0;32mdef\u001b[0m \u001b[0m_failover_to_python\u001b[0m\u001b[0;34m(\u001b[0m\u001b[0mself\u001b[0m\u001b[0;34m)\u001b[0m\u001b[0;34m:\u001b[0m\u001b[0;34m\u001b[0m\u001b[0;34m\u001b[0m\u001b[0m\n",
      "\u001b[0;32m~/miniconda3/lib/python3.7/site-packages/pandas/io/parsers/c_parser_wrapper.py\u001b[0m in \u001b[0;36m__init__\u001b[0;34m(self, src, **kwds)\u001b[0m\n\u001b[1;32m     49\u001b[0m \u001b[0;34m\u001b[0m\u001b[0m\n\u001b[1;32m     50\u001b[0m         \u001b[0;31m# open handles\u001b[0m\u001b[0;34m\u001b[0m\u001b[0;34m\u001b[0m\u001b[0;34m\u001b[0m\u001b[0m\n\u001b[0;32m---> 51\u001b[0;31m         \u001b[0mself\u001b[0m\u001b[0;34m.\u001b[0m\u001b[0m_open_handles\u001b[0m\u001b[0;34m(\u001b[0m\u001b[0msrc\u001b[0m\u001b[0;34m,\u001b[0m \u001b[0mkwds\u001b[0m\u001b[0;34m)\u001b[0m\u001b[0;34m\u001b[0m\u001b[0;34m\u001b[0m\u001b[0m\n\u001b[0m\u001b[1;32m     52\u001b[0m         \u001b[0;32massert\u001b[0m \u001b[0mself\u001b[0m\u001b[0;34m.\u001b[0m\u001b[0mhandles\u001b[0m \u001b[0;32mis\u001b[0m \u001b[0;32mnot\u001b[0m \u001b[0;32mNone\u001b[0m\u001b[0;34m\u001b[0m\u001b[0;34m\u001b[0m\u001b[0m\n\u001b[1;32m     53\u001b[0m \u001b[0;34m\u001b[0m\u001b[0m\n",
      "\u001b[0;32m~/miniconda3/lib/python3.7/site-packages/pandas/io/parsers/base_parser.py\u001b[0m in \u001b[0;36m_open_handles\u001b[0;34m(self, src, kwds)\u001b[0m\n\u001b[1;32m    227\u001b[0m             \u001b[0mmemory_map\u001b[0m\u001b[0;34m=\u001b[0m\u001b[0mkwds\u001b[0m\u001b[0;34m.\u001b[0m\u001b[0mget\u001b[0m\u001b[0;34m(\u001b[0m\u001b[0;34m\"memory_map\"\u001b[0m\u001b[0;34m,\u001b[0m \u001b[0;32mFalse\u001b[0m\u001b[0;34m)\u001b[0m\u001b[0;34m,\u001b[0m\u001b[0;34m\u001b[0m\u001b[0;34m\u001b[0m\u001b[0m\n\u001b[1;32m    228\u001b[0m             \u001b[0mstorage_options\u001b[0m\u001b[0;34m=\u001b[0m\u001b[0mkwds\u001b[0m\u001b[0;34m.\u001b[0m\u001b[0mget\u001b[0m\u001b[0;34m(\u001b[0m\u001b[0;34m\"storage_options\"\u001b[0m\u001b[0;34m,\u001b[0m \u001b[0;32mNone\u001b[0m\u001b[0;34m)\u001b[0m\u001b[0;34m,\u001b[0m\u001b[0;34m\u001b[0m\u001b[0;34m\u001b[0m\u001b[0m\n\u001b[0;32m--> 229\u001b[0;31m             \u001b[0merrors\u001b[0m\u001b[0;34m=\u001b[0m\u001b[0mkwds\u001b[0m\u001b[0;34m.\u001b[0m\u001b[0mget\u001b[0m\u001b[0;34m(\u001b[0m\u001b[0;34m\"encoding_errors\"\u001b[0m\u001b[0;34m,\u001b[0m \u001b[0;34m\"strict\"\u001b[0m\u001b[0;34m)\u001b[0m\u001b[0;34m,\u001b[0m\u001b[0;34m\u001b[0m\u001b[0;34m\u001b[0m\u001b[0m\n\u001b[0m\u001b[1;32m    230\u001b[0m         )\n\u001b[1;32m    231\u001b[0m \u001b[0;34m\u001b[0m\u001b[0m\n",
      "\u001b[0;32m~/miniconda3/lib/python3.7/site-packages/pandas/io/common.py\u001b[0m in \u001b[0;36mget_handle\u001b[0;34m(path_or_buf, mode, encoding, compression, memory_map, is_text, errors, storage_options)\u001b[0m\n\u001b[1;32m    705\u001b[0m                 \u001b[0mencoding\u001b[0m\u001b[0;34m=\u001b[0m\u001b[0mioargs\u001b[0m\u001b[0;34m.\u001b[0m\u001b[0mencoding\u001b[0m\u001b[0;34m,\u001b[0m\u001b[0;34m\u001b[0m\u001b[0;34m\u001b[0m\u001b[0m\n\u001b[1;32m    706\u001b[0m                 \u001b[0merrors\u001b[0m\u001b[0;34m=\u001b[0m\u001b[0merrors\u001b[0m\u001b[0;34m,\u001b[0m\u001b[0;34m\u001b[0m\u001b[0;34m\u001b[0m\u001b[0m\n\u001b[0;32m--> 707\u001b[0;31m                 \u001b[0mnewline\u001b[0m\u001b[0;34m=\u001b[0m\u001b[0;34m\"\"\u001b[0m\u001b[0;34m,\u001b[0m\u001b[0;34m\u001b[0m\u001b[0;34m\u001b[0m\u001b[0m\n\u001b[0m\u001b[1;32m    708\u001b[0m             )\n\u001b[1;32m    709\u001b[0m         \u001b[0;32melse\u001b[0m\u001b[0;34m:\u001b[0m\u001b[0;34m\u001b[0m\u001b[0;34m\u001b[0m\u001b[0m\n",
      "\u001b[0;31mFileNotFoundError\u001b[0m: [Errno 2] No such file or directory: 'data/txt/2018q1/DEMO18Q1.txt'"
     ]
    }
   ],
   "source": [
    "%%time\n",
    "f.load_files(params)"
   ]
  },
  {
   "cell_type": "markdown",
   "metadata": {},
   "source": [
    "# テーブルの確認"
   ]
  },
  {
   "cell_type": "code",
   "execution_count": 18,
   "metadata": {},
   "outputs": [
    {
     "data": {
      "text/html": [
       "<div>\n",
       "<style scoped>\n",
       "    .dataframe tbody tr th:only-of-type {\n",
       "        vertical-align: middle;\n",
       "    }\n",
       "\n",
       "    .dataframe tbody tr th {\n",
       "        vertical-align: top;\n",
       "    }\n",
       "\n",
       "    .dataframe thead th {\n",
       "        text-align: right;\n",
       "    }\n",
       "</style>\n",
       "<table border=\"1\" class=\"dataframe\">\n",
       "  <thead>\n",
       "    <tr style=\"text-align: right;\">\n",
       "      <th></th>\n",
       "      <th>primaryid</th>\n",
       "      <th>prod_ai</th>\n",
       "      <th>lvl5</th>\n",
       "      <th>lvl4</th>\n",
       "      <th>lvl3</th>\n",
       "      <th>lvl2</th>\n",
       "      <th>lvl1</th>\n",
       "    </tr>\n",
       "  </thead>\n",
       "  <tbody>\n",
       "    <tr>\n",
       "      <th>0</th>\n",
       "      <td>35032933</td>\n",
       "      <td>ATORVASTATIN CALCIUM</td>\n",
       "      <td>Atorvastatin</td>\n",
       "      <td>HMG CoA reductase inhibitors</td>\n",
       "      <td>LIPID MODIFYING AGENTS, PLAIN</td>\n",
       "      <td>LIPID MODIFYING AGENTS</td>\n",
       "      <td>CARDIOVASCULAR SYSTEM</td>\n",
       "    </tr>\n",
       "    <tr>\n",
       "      <th>1</th>\n",
       "      <td>35032933</td>\n",
       "      <td>BUPROPION HYDROCHLORIDE</td>\n",
       "      <td>Bupropion</td>\n",
       "      <td>Other antidepressants</td>\n",
       "      <td>ANTIDEPRESSANTS</td>\n",
       "      <td>PSYCHOANALEPTICS</td>\n",
       "      <td>NERVOUS SYSTEM</td>\n",
       "    </tr>\n",
       "    <tr>\n",
       "      <th>2</th>\n",
       "      <td>35032933</td>\n",
       "      <td>INTERFERON BETA-1A</td>\n",
       "      <td>Interferon beta-1a</td>\n",
       "      <td>Interferons</td>\n",
       "      <td>IMMUNOSTIMULANTS</td>\n",
       "      <td>IMMUNOSTIMULANTS</td>\n",
       "      <td>ANTINEOPLASTIC AND IMMUNOMODULATING AGENTS</td>\n",
       "    </tr>\n",
       "    <tr>\n",
       "      <th>3</th>\n",
       "      <td>35032933</td>\n",
       "      <td>LEVOTHYROXINE SODIUM</td>\n",
       "      <td>Levothyroxine sodium</td>\n",
       "      <td>Thyroid hormones</td>\n",
       "      <td>THYROID PREPARATIONS</td>\n",
       "      <td>THYROID THERAPY</td>\n",
       "      <td>SYSTEMIC HORMONAL PREPARATIONS, EXCL. SEX HORM...</td>\n",
       "    </tr>\n",
       "    <tr>\n",
       "      <th>4</th>\n",
       "      <td>35032933</td>\n",
       "      <td>SERTRALINE HYDROCHLORIDE</td>\n",
       "      <td>Sertraline</td>\n",
       "      <td>Selective serotonin reuptake inhibitors</td>\n",
       "      <td>ANTIDEPRESSANTS</td>\n",
       "      <td>PSYCHOANALEPTICS</td>\n",
       "      <td>NERVOUS SYSTEM</td>\n",
       "    </tr>\n",
       "  </tbody>\n",
       "</table>\n",
       "</div>"
      ],
      "text/plain": [
       "   primaryid                   prod_ai                  lvl5  \\\n",
       "0   35032933      ATORVASTATIN CALCIUM          Atorvastatin   \n",
       "1   35032933   BUPROPION HYDROCHLORIDE             Bupropion   \n",
       "2   35032933        INTERFERON BETA-1A    Interferon beta-1a   \n",
       "3   35032933      LEVOTHYROXINE SODIUM  Levothyroxine sodium   \n",
       "4   35032933  SERTRALINE HYDROCHLORIDE            Sertraline   \n",
       "\n",
       "                                      lvl4                           lvl3  \\\n",
       "0             HMG CoA reductase inhibitors  LIPID MODIFYING AGENTS, PLAIN   \n",
       "1                    Other antidepressants                ANTIDEPRESSANTS   \n",
       "2                              Interferons               IMMUNOSTIMULANTS   \n",
       "3                         Thyroid hormones           THYROID PREPARATIONS   \n",
       "4  Selective serotonin reuptake inhibitors                ANTIDEPRESSANTS   \n",
       "\n",
       "                     lvl2                                               lvl1  \n",
       "0  LIPID MODIFYING AGENTS                              CARDIOVASCULAR SYSTEM  \n",
       "1        PSYCHOANALEPTICS                                     NERVOUS SYSTEM  \n",
       "2        IMMUNOSTIMULANTS         ANTINEOPLASTIC AND IMMUNOMODULATING AGENTS  \n",
       "3         THYROID THERAPY  SYSTEMIC HORMONAL PREPARATIONS, EXCL. SEX HORM...  \n",
       "4        PSYCHOANALEPTICS                                     NERVOUS SYSTEM  "
      ]
     },
     "execution_count": 18,
     "metadata": {},
     "output_type": "execute_result"
    }
   ],
   "source": [
    "f.DRUG.head()"
   ]
  },
  {
   "cell_type": "code",
   "execution_count": 4,
   "metadata": {},
   "outputs": [
    {
     "data": {
      "text/html": [
       "<div>\n",
       "<style scoped>\n",
       "    .dataframe tbody tr th:only-of-type {\n",
       "        vertical-align: middle;\n",
       "    }\n",
       "\n",
       "    .dataframe tbody tr th {\n",
       "        vertical-align: top;\n",
       "    }\n",
       "\n",
       "    .dataframe thead th {\n",
       "        text-align: right;\n",
       "    }\n",
       "</style>\n",
       "<table border=\"1\" class=\"dataframe\">\n",
       "  <thead>\n",
       "    <tr style=\"text-align: right;\">\n",
       "      <th></th>\n",
       "      <th>primaryid</th>\n",
       "      <th>pt</th>\n",
       "      <th>PT_jp</th>\n",
       "      <th>HLT_jp</th>\n",
       "      <th>HLT_en</th>\n",
       "      <th>HLGT_jp</th>\n",
       "      <th>HLGT_en</th>\n",
       "      <th>SOC_jp</th>\n",
       "      <th>SOC_en</th>\n",
       "    </tr>\n",
       "  </thead>\n",
       "  <tbody>\n",
       "    <tr>\n",
       "      <th>0</th>\n",
       "      <td>35032933</td>\n",
       "      <td>Blood triglycerides increased</td>\n",
       "      <td>血中トリグリセリド増加</td>\n",
       "      <td>トリグリセリド検査</td>\n",
       "      <td>Triglyceride analyses</td>\n",
       "      <td>脂質検査</td>\n",
       "      <td>Lipid analyses</td>\n",
       "      <td>臨床検査</td>\n",
       "      <td>Investigations</td>\n",
       "    </tr>\n",
       "    <tr>\n",
       "      <th>1</th>\n",
       "      <td>35032933</td>\n",
       "      <td>Breast cancer</td>\n",
       "      <td>乳癌</td>\n",
       "      <td>悪性乳房および乳頭新生物</td>\n",
       "      <td>Breast and nipple neoplasms malignant</td>\n",
       "      <td>悪性および詳細不明の乳房新生物（乳頭を含む）</td>\n",
       "      <td>Breast neoplasms malignant and unspecified (in...</td>\n",
       "      <td>良性、悪性および詳細不明の新生物（嚢胞およびポリープを含む）</td>\n",
       "      <td>Neoplasms benign, malignant and unspecified (i...</td>\n",
       "    </tr>\n",
       "    <tr>\n",
       "      <th>2</th>\n",
       "      <td>35032933</td>\n",
       "      <td>Haemorrhagic ovarian cyst</td>\n",
       "      <td>出血性卵巣嚢胞</td>\n",
       "      <td>卵巣および卵管嚢胞および新生物</td>\n",
       "      <td>Ovarian and fallopian tube cysts and neoplasms</td>\n",
       "      <td>卵巣および卵管障害</td>\n",
       "      <td>Ovarian and fallopian tube disorders</td>\n",
       "      <td>生殖系および乳房障害</td>\n",
       "      <td>Reproductive system and breast disorders</td>\n",
       "    </tr>\n",
       "    <tr>\n",
       "      <th>3</th>\n",
       "      <td>35032933</td>\n",
       "      <td>Headache</td>\n",
       "      <td>頭痛</td>\n",
       "      <td>頭痛ＮＥＣ</td>\n",
       "      <td>Headaches NEC</td>\n",
       "      <td>頭痛</td>\n",
       "      <td>Headaches</td>\n",
       "      <td>神経系障害</td>\n",
       "      <td>Nervous system disorders</td>\n",
       "    </tr>\n",
       "    <tr>\n",
       "      <th>4</th>\n",
       "      <td>35032933</td>\n",
       "      <td>Hypercholesterolaemia</td>\n",
       "      <td>高コレステロール血症</td>\n",
       "      <td>コレステロール上昇</td>\n",
       "      <td>Elevated cholesterol</td>\n",
       "      <td>脂質代謝障害</td>\n",
       "      <td>Lipid metabolism disorders</td>\n",
       "      <td>代謝および栄養障害</td>\n",
       "      <td>Metabolism and nutrition disorders</td>\n",
       "    </tr>\n",
       "  </tbody>\n",
       "</table>\n",
       "</div>"
      ],
      "text/plain": [
       "   primaryid                             pt        PT_jp           HLT_jp  \\\n",
       "0   35032933  Blood triglycerides increased  血中トリグリセリド増加        トリグリセリド検査   \n",
       "1   35032933                  Breast cancer           乳癌     悪性乳房および乳頭新生物   \n",
       "2   35032933      Haemorrhagic ovarian cyst      出血性卵巣嚢胞  卵巣および卵管嚢胞および新生物   \n",
       "3   35032933                       Headache           頭痛            頭痛ＮＥＣ   \n",
       "4   35032933          Hypercholesterolaemia   高コレステロール血症        コレステロール上昇   \n",
       "\n",
       "                                           HLT_en                 HLGT_jp  \\\n",
       "0                           Triglyceride analyses                    脂質検査   \n",
       "1           Breast and nipple neoplasms malignant  悪性および詳細不明の乳房新生物（乳頭を含む）   \n",
       "2  Ovarian and fallopian tube cysts and neoplasms               卵巣および卵管障害   \n",
       "3                                   Headaches NEC                      頭痛   \n",
       "4                            Elevated cholesterol                  脂質代謝障害   \n",
       "\n",
       "                                             HLGT_en  \\\n",
       "0                                     Lipid analyses   \n",
       "1  Breast neoplasms malignant and unspecified (in...   \n",
       "2               Ovarian and fallopian tube disorders   \n",
       "3                                          Headaches   \n",
       "4                         Lipid metabolism disorders   \n",
       "\n",
       "                           SOC_jp  \\\n",
       "0                            臨床検査   \n",
       "1  良性、悪性および詳細不明の新生物（嚢胞およびポリープを含む）   \n",
       "2                      生殖系および乳房障害   \n",
       "3                           神経系障害   \n",
       "4                       代謝および栄養障害   \n",
       "\n",
       "                                              SOC_en  \n",
       "0                                     Investigations  \n",
       "1  Neoplasms benign, malignant and unspecified (i...  \n",
       "2           Reproductive system and breast disorders  \n",
       "3                           Nervous system disorders  \n",
       "4                 Metabolism and nutrition disorders  "
      ]
     },
     "execution_count": 4,
     "metadata": {},
     "output_type": "execute_result"
    }
   ],
   "source": [
    "f.REAC.head()"
   ]
  },
  {
   "cell_type": "code",
   "execution_count": 5,
   "metadata": {},
   "outputs": [
    {
     "data": {
      "text/plain": [
       "pandas.core.frame.DataFrame"
      ]
     },
     "execution_count": 5,
     "metadata": {},
     "output_type": "execute_result"
    }
   ],
   "source": [
    "type(f.DRUG)"
   ]
  },
  {
   "cell_type": "code",
   "execution_count": 6,
   "metadata": {},
   "outputs": [
    {
     "data": {
      "text/plain": [
       "24539697"
      ]
     },
     "execution_count": 6,
     "metadata": {},
     "output_type": "execute_result"
    }
   ],
   "source": [
    "f.DRUG.__sizeof__()"
   ]
  },
  {
   "cell_type": "code",
   "execution_count": 7,
   "metadata": {},
   "outputs": [
    {
     "data": {
      "text/plain": [
       "34207583"
      ]
     },
     "execution_count": 7,
     "metadata": {},
     "output_type": "execute_result"
    }
   ],
   "source": [
    "f.REAC.__sizeof__()"
   ]
  },
  {
   "cell_type": "markdown",
   "metadata": {},
   "source": [
    "# pklファイルの読み込み、ROR計算の確認"
   ]
  },
  {
   "cell_type": "code",
   "execution_count": 8,
   "metadata": {},
   "outputs": [
    {
     "name": "stdout",
     "output_type": "stream",
     "text": [
      "273 ms ± 12.8 ms per loop (mean ± std. dev. of 7 runs, 1 loop each)\n"
     ]
    }
   ],
   "source": [
    "%%timeit\n",
    "f._load_pickles()"
   ]
  },
  {
   "cell_type": "code",
   "execution_count": 9,
   "metadata": {},
   "outputs": [
    {
     "name": "stdout",
     "output_type": "stream",
     "text": [
      "CPU times: user 2.5 ms, sys: 31.2 ms, total: 33.7 ms\n",
      "Wall time: 139 ms\n"
     ]
    },
    {
     "data": {
      "text/plain": [
       "['(1-743)-(1638-2332)-BLOOD-COAGULATION FACTOR ..., '.ALPHA.-GLUCOSE-1-PHOSPHATE', '.ALPHA.-LIPOIC ACID', '.ALPHA.-LIPOIC ACID, (+/-)-', '.ALPHA.-LIPOIC ACID\\GREEN TEA LEAF\\QUERCETIN\\..., ..., 'ZOPICLONE', 'ZOTEPINE', 'ZUCLOPENTHIXOL', 'ZUCLOPENTHIXOL ACETATE', 'ZUCLOPENTHIXOL DECANOATE']\n",
       "Length: 5417\n",
       "Categories (5418, object): ['(1-743)-(1638-2332)-BLOOD-COAGULATION FACTOR ..., '.ALPHA.-GLUCOSE-1-PHOSPHATE', '.ALPHA.-LIPOIC ACID', '.ALPHA.-LIPOIC ACID, (+/-)-', ..., 'ZUCLOPENTHIXOL', 'ZUCLOPENTHIXOL ACETATE', 'ZUCLOPENTHIXOL DECANOATE', '_NoCategories']"
      ]
     },
     "execution_count": 9,
     "metadata": {},
     "output_type": "execute_result"
    }
   ],
   "source": [
    "%%time\n",
    "fname = 'data/pkl/test/prod_ai.pkl'\n",
    "f._pickle_load(fname)[1]"
   ]
  },
  {
   "cell_type": "code",
   "execution_count": 10,
   "metadata": {},
   "outputs": [
    {
     "data": {
      "text/html": [
       "<div>\n",
       "<style scoped>\n",
       "    .dataframe tbody tr th:only-of-type {\n",
       "        vertical-align: middle;\n",
       "    }\n",
       "\n",
       "    .dataframe tbody tr th {\n",
       "        vertical-align: top;\n",
       "    }\n",
       "\n",
       "    .dataframe thead th {\n",
       "        text-align: right;\n",
       "    }\n",
       "</style>\n",
       "<table border=\"1\" class=\"dataframe\">\n",
       "  <thead>\n",
       "    <tr style=\"text-align: right;\">\n",
       "      <th></th>\n",
       "      <th>(1-743)-(1638-2332)-BLOOD-COAGULATION FACTOR VIII (SYNTHETIC HUMAN) FUSION PROTEIN WITH IMMUNOGLOBULIN G1 (SYNTHETIC HUMAN FC DOMAIN FRAGMENT), (1444-6'),(1447-9')-BIS(DISULFIDE) WITH IMMUNOGLOBULIN G1 (SYNTHETIC HUMAN FC DOMAIN FRAGMENT)</th>\n",
       "      <th>.ALPHA.-GLUCOSE-1-PHOSPHATE</th>\n",
       "      <th>.ALPHA.-LIPOIC ACID</th>\n",
       "      <th>.ALPHA.-LIPOIC ACID, (+/-)-</th>\n",
       "      <th>.ALPHA.-LIPOIC ACID\\GREEN TEA LEAF\\QUERCETIN\\SELENIUM\\TURMERIC\\UBIDECARENONE\\VITAMIN A\\VITAMIN D</th>\n",
       "      <th>.ALPHA.-PYRROLIDINOPENTIOPHENONE</th>\n",
       "      <th>.ALPHA.-TOCOPHEROL</th>\n",
       "      <th>.ALPHA.-TOCOPHEROL ACETATE</th>\n",
       "      <th>.ALPHA.-TOCOPHEROL ACETATE, DL-\\.BETA.-CAROTENE\\ASCORBIC ACID\\CALCIUM CARBONATE\\CALCIUM PANTOTHENATE\\CHOLECALCIFEROL\\CYANOCOBALAMIN\\DOCUSATE SODIUM\\FERROUS FUMARATE\\FOLIC ACID\\NIACINAMIDE\\PYRIDOXINE HYDROCHLORIDE\\RIBOFLAVIN\\THIAMINE MONONITRATE\\ZINC OXIDE</th>\n",
       "      <th>.ALPHA.-TOCOPHEROL ACETATE, DL-\\.BETA.-CAROTENE\\ASCORBIC ACID\\CALCIUM CARBONATE\\CHOLECALCIFEROL\\CUPRIC OXIDE\\CYANOCOBALAMIN\\FERROUS FUMARATE\\FOLIC ACID\\NIACINAMIDE\\PYRIDOXINE HYDROCHLORIDE\\RIBOFLAVIN\\THIAMINE MONONITRATE\\VITAMIN A ACETATE\\ZINC OXIDE</th>\n",
       "      <th>...</th>\n",
       "      <th>ZOLMITRIPTAN</th>\n",
       "      <th>ZOLPIDEM TARTRATE</th>\n",
       "      <th>ZOLPIDEM\\ZOLPIDEM TARTRATE</th>\n",
       "      <th>ZOMEPIRAC SODIUM</th>\n",
       "      <th>ZONISAMIDE</th>\n",
       "      <th>ZOPICLONE</th>\n",
       "      <th>ZOTEPINE</th>\n",
       "      <th>ZUCLOPENTHIXOL</th>\n",
       "      <th>ZUCLOPENTHIXOL ACETATE</th>\n",
       "      <th>ZUCLOPENTHIXOL DECANOATE</th>\n",
       "    </tr>\n",
       "  </thead>\n",
       "  <tbody>\n",
       "    <tr>\n",
       "      <th>0</th>\n",
       "      <td>0</td>\n",
       "      <td>0</td>\n",
       "      <td>0</td>\n",
       "      <td>0</td>\n",
       "      <td>0</td>\n",
       "      <td>0</td>\n",
       "      <td>0</td>\n",
       "      <td>0</td>\n",
       "      <td>0</td>\n",
       "      <td>0</td>\n",
       "      <td>...</td>\n",
       "      <td>0</td>\n",
       "      <td>0</td>\n",
       "      <td>0</td>\n",
       "      <td>0</td>\n",
       "      <td>0</td>\n",
       "      <td>0</td>\n",
       "      <td>0</td>\n",
       "      <td>0</td>\n",
       "      <td>0</td>\n",
       "      <td>0</td>\n",
       "    </tr>\n",
       "    <tr>\n",
       "      <th>1</th>\n",
       "      <td>0</td>\n",
       "      <td>0</td>\n",
       "      <td>0</td>\n",
       "      <td>0</td>\n",
       "      <td>0</td>\n",
       "      <td>0</td>\n",
       "      <td>0</td>\n",
       "      <td>0</td>\n",
       "      <td>0</td>\n",
       "      <td>0</td>\n",
       "      <td>...</td>\n",
       "      <td>0</td>\n",
       "      <td>0</td>\n",
       "      <td>0</td>\n",
       "      <td>0</td>\n",
       "      <td>0</td>\n",
       "      <td>0</td>\n",
       "      <td>0</td>\n",
       "      <td>0</td>\n",
       "      <td>0</td>\n",
       "      <td>0</td>\n",
       "    </tr>\n",
       "    <tr>\n",
       "      <th>2</th>\n",
       "      <td>0</td>\n",
       "      <td>0</td>\n",
       "      <td>0</td>\n",
       "      <td>0</td>\n",
       "      <td>0</td>\n",
       "      <td>0</td>\n",
       "      <td>0</td>\n",
       "      <td>0</td>\n",
       "      <td>0</td>\n",
       "      <td>0</td>\n",
       "      <td>...</td>\n",
       "      <td>0</td>\n",
       "      <td>0</td>\n",
       "      <td>0</td>\n",
       "      <td>0</td>\n",
       "      <td>0</td>\n",
       "      <td>0</td>\n",
       "      <td>0</td>\n",
       "      <td>0</td>\n",
       "      <td>0</td>\n",
       "      <td>0</td>\n",
       "    </tr>\n",
       "    <tr>\n",
       "      <th>3</th>\n",
       "      <td>0</td>\n",
       "      <td>0</td>\n",
       "      <td>0</td>\n",
       "      <td>0</td>\n",
       "      <td>0</td>\n",
       "      <td>0</td>\n",
       "      <td>0</td>\n",
       "      <td>0</td>\n",
       "      <td>0</td>\n",
       "      <td>0</td>\n",
       "      <td>...</td>\n",
       "      <td>0</td>\n",
       "      <td>0</td>\n",
       "      <td>0</td>\n",
       "      <td>0</td>\n",
       "      <td>0</td>\n",
       "      <td>0</td>\n",
       "      <td>0</td>\n",
       "      <td>0</td>\n",
       "      <td>0</td>\n",
       "      <td>0</td>\n",
       "    </tr>\n",
       "    <tr>\n",
       "      <th>4</th>\n",
       "      <td>0</td>\n",
       "      <td>0</td>\n",
       "      <td>0</td>\n",
       "      <td>0</td>\n",
       "      <td>0</td>\n",
       "      <td>0</td>\n",
       "      <td>0</td>\n",
       "      <td>0</td>\n",
       "      <td>0</td>\n",
       "      <td>0</td>\n",
       "      <td>...</td>\n",
       "      <td>0</td>\n",
       "      <td>0</td>\n",
       "      <td>0</td>\n",
       "      <td>0</td>\n",
       "      <td>0</td>\n",
       "      <td>0</td>\n",
       "      <td>0</td>\n",
       "      <td>0</td>\n",
       "      <td>0</td>\n",
       "      <td>0</td>\n",
       "    </tr>\n",
       "    <tr>\n",
       "      <th>...</th>\n",
       "      <td>...</td>\n",
       "      <td>...</td>\n",
       "      <td>...</td>\n",
       "      <td>...</td>\n",
       "      <td>...</td>\n",
       "      <td>...</td>\n",
       "      <td>...</td>\n",
       "      <td>...</td>\n",
       "      <td>...</td>\n",
       "      <td>...</td>\n",
       "      <td>...</td>\n",
       "      <td>...</td>\n",
       "      <td>...</td>\n",
       "      <td>...</td>\n",
       "      <td>...</td>\n",
       "      <td>...</td>\n",
       "      <td>...</td>\n",
       "      <td>...</td>\n",
       "      <td>...</td>\n",
       "      <td>...</td>\n",
       "      <td>...</td>\n",
       "    </tr>\n",
       "    <tr>\n",
       "      <th>606331</th>\n",
       "      <td>0</td>\n",
       "      <td>0</td>\n",
       "      <td>0</td>\n",
       "      <td>0</td>\n",
       "      <td>0</td>\n",
       "      <td>0</td>\n",
       "      <td>0</td>\n",
       "      <td>0</td>\n",
       "      <td>0</td>\n",
       "      <td>0</td>\n",
       "      <td>...</td>\n",
       "      <td>0</td>\n",
       "      <td>0</td>\n",
       "      <td>0</td>\n",
       "      <td>0</td>\n",
       "      <td>0</td>\n",
       "      <td>0</td>\n",
       "      <td>0</td>\n",
       "      <td>0</td>\n",
       "      <td>0</td>\n",
       "      <td>0</td>\n",
       "    </tr>\n",
       "    <tr>\n",
       "      <th>606332</th>\n",
       "      <td>0</td>\n",
       "      <td>0</td>\n",
       "      <td>0</td>\n",
       "      <td>0</td>\n",
       "      <td>0</td>\n",
       "      <td>0</td>\n",
       "      <td>0</td>\n",
       "      <td>0</td>\n",
       "      <td>0</td>\n",
       "      <td>0</td>\n",
       "      <td>...</td>\n",
       "      <td>0</td>\n",
       "      <td>0</td>\n",
       "      <td>0</td>\n",
       "      <td>0</td>\n",
       "      <td>0</td>\n",
       "      <td>0</td>\n",
       "      <td>0</td>\n",
       "      <td>0</td>\n",
       "      <td>0</td>\n",
       "      <td>0</td>\n",
       "    </tr>\n",
       "    <tr>\n",
       "      <th>606333</th>\n",
       "      <td>0</td>\n",
       "      <td>0</td>\n",
       "      <td>0</td>\n",
       "      <td>0</td>\n",
       "      <td>0</td>\n",
       "      <td>0</td>\n",
       "      <td>0</td>\n",
       "      <td>0</td>\n",
       "      <td>0</td>\n",
       "      <td>0</td>\n",
       "      <td>...</td>\n",
       "      <td>0</td>\n",
       "      <td>0</td>\n",
       "      <td>0</td>\n",
       "      <td>0</td>\n",
       "      <td>0</td>\n",
       "      <td>0</td>\n",
       "      <td>0</td>\n",
       "      <td>0</td>\n",
       "      <td>0</td>\n",
       "      <td>0</td>\n",
       "    </tr>\n",
       "    <tr>\n",
       "      <th>606334</th>\n",
       "      <td>0</td>\n",
       "      <td>0</td>\n",
       "      <td>0</td>\n",
       "      <td>0</td>\n",
       "      <td>0</td>\n",
       "      <td>0</td>\n",
       "      <td>0</td>\n",
       "      <td>0</td>\n",
       "      <td>0</td>\n",
       "      <td>0</td>\n",
       "      <td>...</td>\n",
       "      <td>0</td>\n",
       "      <td>0</td>\n",
       "      <td>0</td>\n",
       "      <td>0</td>\n",
       "      <td>0</td>\n",
       "      <td>0</td>\n",
       "      <td>0</td>\n",
       "      <td>0</td>\n",
       "      <td>0</td>\n",
       "      <td>0</td>\n",
       "    </tr>\n",
       "    <tr>\n",
       "      <th>606335</th>\n",
       "      <td>0</td>\n",
       "      <td>0</td>\n",
       "      <td>0</td>\n",
       "      <td>0</td>\n",
       "      <td>0</td>\n",
       "      <td>0</td>\n",
       "      <td>0</td>\n",
       "      <td>0</td>\n",
       "      <td>0</td>\n",
       "      <td>0</td>\n",
       "      <td>...</td>\n",
       "      <td>0</td>\n",
       "      <td>0</td>\n",
       "      <td>0</td>\n",
       "      <td>0</td>\n",
       "      <td>0</td>\n",
       "      <td>0</td>\n",
       "      <td>0</td>\n",
       "      <td>0</td>\n",
       "      <td>0</td>\n",
       "      <td>0</td>\n",
       "    </tr>\n",
       "  </tbody>\n",
       "</table>\n",
       "<p>606336 rows × 5417 columns</p>\n",
       "</div>"
      ],
      "text/plain": [
       "        (1-743)-(1638-2332)-BLOOD-COAGULATION FACTOR VIII (SYNTHETIC HUMAN) FUSION PROTEIN WITH IMMUNOGLOBULIN G1 (SYNTHETIC HUMAN FC DOMAIN FRAGMENT), (1444-6'),(1447-9')-BIS(DISULFIDE) WITH IMMUNOGLOBULIN G1 (SYNTHETIC HUMAN FC DOMAIN FRAGMENT)  \\\n",
       "0                                                       0                                                                                                                                                                                                \n",
       "1                                                       0                                                                                                                                                                                                \n",
       "2                                                       0                                                                                                                                                                                                \n",
       "3                                                       0                                                                                                                                                                                                \n",
       "4                                                       0                                                                                                                                                                                                \n",
       "...                                                   ...                                                                                                                                                                                                \n",
       "606331                                                  0                                                                                                                                                                                                \n",
       "606332                                                  0                                                                                                                                                                                                \n",
       "606333                                                  0                                                                                                                                                                                                \n",
       "606334                                                  0                                                                                                                                                                                                \n",
       "606335                                                  0                                                                                                                                                                                                \n",
       "\n",
       "        .ALPHA.-GLUCOSE-1-PHOSPHATE  .ALPHA.-LIPOIC ACID  \\\n",
       "0                                 0                    0   \n",
       "1                                 0                    0   \n",
       "2                                 0                    0   \n",
       "3                                 0                    0   \n",
       "4                                 0                    0   \n",
       "...                             ...                  ...   \n",
       "606331                            0                    0   \n",
       "606332                            0                    0   \n",
       "606333                            0                    0   \n",
       "606334                            0                    0   \n",
       "606335                            0                    0   \n",
       "\n",
       "        .ALPHA.-LIPOIC ACID, (+/-)-  \\\n",
       "0                                 0   \n",
       "1                                 0   \n",
       "2                                 0   \n",
       "3                                 0   \n",
       "4                                 0   \n",
       "...                             ...   \n",
       "606331                            0   \n",
       "606332                            0   \n",
       "606333                            0   \n",
       "606334                            0   \n",
       "606335                            0   \n",
       "\n",
       "        .ALPHA.-LIPOIC ACID\\GREEN TEA LEAF\\QUERCETIN\\SELENIUM\\TURMERIC\\UBIDECARENONE\\VITAMIN A\\VITAMIN D  \\\n",
       "0                                                       0                                                  \n",
       "1                                                       0                                                  \n",
       "2                                                       0                                                  \n",
       "3                                                       0                                                  \n",
       "4                                                       0                                                  \n",
       "...                                                   ...                                                  \n",
       "606331                                                  0                                                  \n",
       "606332                                                  0                                                  \n",
       "606333                                                  0                                                  \n",
       "606334                                                  0                                                  \n",
       "606335                                                  0                                                  \n",
       "\n",
       "        .ALPHA.-PYRROLIDINOPENTIOPHENONE  .ALPHA.-TOCOPHEROL  \\\n",
       "0                                      0                   0   \n",
       "1                                      0                   0   \n",
       "2                                      0                   0   \n",
       "3                                      0                   0   \n",
       "4                                      0                   0   \n",
       "...                                  ...                 ...   \n",
       "606331                                 0                   0   \n",
       "606332                                 0                   0   \n",
       "606333                                 0                   0   \n",
       "606334                                 0                   0   \n",
       "606335                                 0                   0   \n",
       "\n",
       "        .ALPHA.-TOCOPHEROL ACETATE  \\\n",
       "0                                0   \n",
       "1                                0   \n",
       "2                                0   \n",
       "3                                0   \n",
       "4                                0   \n",
       "...                            ...   \n",
       "606331                           0   \n",
       "606332                           0   \n",
       "606333                           0   \n",
       "606334                           0   \n",
       "606335                           0   \n",
       "\n",
       "        .ALPHA.-TOCOPHEROL ACETATE, DL-\\.BETA.-CAROTENE\\ASCORBIC ACID\\CALCIUM CARBONATE\\CALCIUM PANTOTHENATE\\CHOLECALCIFEROL\\CYANOCOBALAMIN\\DOCUSATE SODIUM\\FERROUS FUMARATE\\FOLIC ACID\\NIACINAMIDE\\PYRIDOXINE HYDROCHLORIDE\\RIBOFLAVIN\\THIAMINE MONONITRATE\\ZINC OXIDE  \\\n",
       "0                                                       0                                                                                                                                                                                                                 \n",
       "1                                                       0                                                                                                                                                                                                                 \n",
       "2                                                       0                                                                                                                                                                                                                 \n",
       "3                                                       0                                                                                                                                                                                                                 \n",
       "4                                                       0                                                                                                                                                                                                                 \n",
       "...                                                   ...                                                                                                                                                                                                                 \n",
       "606331                                                  0                                                                                                                                                                                                                 \n",
       "606332                                                  0                                                                                                                                                                                                                 \n",
       "606333                                                  0                                                                                                                                                                                                                 \n",
       "606334                                                  0                                                                                                                                                                                                                 \n",
       "606335                                                  0                                                                                                                                                                                                                 \n",
       "\n",
       "        .ALPHA.-TOCOPHEROL ACETATE, DL-\\.BETA.-CAROTENE\\ASCORBIC ACID\\CALCIUM CARBONATE\\CHOLECALCIFEROL\\CUPRIC OXIDE\\CYANOCOBALAMIN\\FERROUS FUMARATE\\FOLIC ACID\\NIACINAMIDE\\PYRIDOXINE HYDROCHLORIDE\\RIBOFLAVIN\\THIAMINE MONONITRATE\\VITAMIN A ACETATE\\ZINC OXIDE  \\\n",
       "0                                                       0                                                                                                                                                                                                           \n",
       "1                                                       0                                                                                                                                                                                                           \n",
       "2                                                       0                                                                                                                                                                                                           \n",
       "3                                                       0                                                                                                                                                                                                           \n",
       "4                                                       0                                                                                                                                                                                                           \n",
       "...                                                   ...                                                                                                                                                                                                           \n",
       "606331                                                  0                                                                                                                                                                                                           \n",
       "606332                                                  0                                                                                                                                                                                                           \n",
       "606333                                                  0                                                                                                                                                                                                           \n",
       "606334                                                  0                                                                                                                                                                                                           \n",
       "606335                                                  0                                                                                                                                                                                                           \n",
       "\n",
       "        ...  ZOLMITRIPTAN  ZOLPIDEM TARTRATE  ZOLPIDEM\\ZOLPIDEM TARTRATE  \\\n",
       "0       ...             0                  0                           0   \n",
       "1       ...             0                  0                           0   \n",
       "2       ...             0                  0                           0   \n",
       "3       ...             0                  0                           0   \n",
       "4       ...             0                  0                           0   \n",
       "...     ...           ...                ...                         ...   \n",
       "606331  ...             0                  0                           0   \n",
       "606332  ...             0                  0                           0   \n",
       "606333  ...             0                  0                           0   \n",
       "606334  ...             0                  0                           0   \n",
       "606335  ...             0                  0                           0   \n",
       "\n",
       "        ZOMEPIRAC SODIUM  ZONISAMIDE  ZOPICLONE  ZOTEPINE  ZUCLOPENTHIXOL  \\\n",
       "0                      0           0          0         0               0   \n",
       "1                      0           0          0         0               0   \n",
       "2                      0           0          0         0               0   \n",
       "3                      0           0          0         0               0   \n",
       "4                      0           0          0         0               0   \n",
       "...                  ...         ...        ...       ...             ...   \n",
       "606331                 0           0          0         0               0   \n",
       "606332                 0           0          0         0               0   \n",
       "606333                 0           0          0         0               0   \n",
       "606334                 0           0          0         0               0   \n",
       "606335                 0           0          0         0               0   \n",
       "\n",
       "        ZUCLOPENTHIXOL ACETATE  ZUCLOPENTHIXOL DECANOATE  \n",
       "0                            0                         0  \n",
       "1                            0                         0  \n",
       "2                            0                         0  \n",
       "3                            0                         0  \n",
       "4                            0                         0  \n",
       "...                        ...                       ...  \n",
       "606331                       0                         0  \n",
       "606332                       0                         0  \n",
       "606333                       0                         0  \n",
       "606334                       0                         0  \n",
       "606335                       0                         0  \n",
       "\n",
       "[606336 rows x 5417 columns]"
      ]
     },
     "execution_count": 10,
     "metadata": {},
     "output_type": "execute_result"
    }
   ],
   "source": [
    "f._load_pickles()\n",
    "pd.DataFrame.sparse.from_spmatrix(f.DRUG, columns=f.drug_labels)"
   ]
  },
  {
   "cell_type": "code",
   "execution_count": 11,
   "metadata": {},
   "outputs": [
    {
     "name": "stdout",
     "output_type": "stream",
     "text": [
      "CPU times: user 61.7 ms, sys: 0 ns, total: 61.7 ms\n",
      "Wall time: 58.9 ms\n"
     ]
    },
    {
     "data": {
      "text/html": [
       "<div>\n",
       "<style scoped>\n",
       "    .dataframe tbody tr th:only-of-type {\n",
       "        vertical-align: middle;\n",
       "    }\n",
       "\n",
       "    .dataframe tbody tr th {\n",
       "        vertical-align: top;\n",
       "    }\n",
       "\n",
       "    .dataframe thead th {\n",
       "        text-align: right;\n",
       "    }\n",
       "</style>\n",
       "<table border=\"1\" class=\"dataframe\">\n",
       "  <thead>\n",
       "    <tr style=\"text-align: right;\">\n",
       "      <th></th>\n",
       "      <th>d1r1</th>\n",
       "      <th>d1r0</th>\n",
       "      <th>d0r1</th>\n",
       "      <th>d0r0</th>\n",
       "      <th>ROR</th>\n",
       "      <th>SE</th>\n",
       "      <th>CI95min</th>\n",
       "      <th>CI95max</th>\n",
       "    </tr>\n",
       "  </thead>\n",
       "  <tbody>\n",
       "    <tr>\n",
       "      <th>LENALIDOMIDE</th>\n",
       "      <td>22</td>\n",
       "      <td>3834</td>\n",
       "      <td>499</td>\n",
       "      <td>27355</td>\n",
       "      <td>0.314562</td>\n",
       "      <td>0.218531</td>\n",
       "      <td>0.204969</td>\n",
       "      <td>0.482752</td>\n",
       "    </tr>\n",
       "    <tr>\n",
       "      <th>DEXAMETHASONE</th>\n",
       "      <td>20</td>\n",
       "      <td>2514</td>\n",
       "      <td>501</td>\n",
       "      <td>28675</td>\n",
       "      <td>0.455334</td>\n",
       "      <td>0.228973</td>\n",
       "      <td>0.290686</td>\n",
       "      <td>0.713241</td>\n",
       "    </tr>\n",
       "    <tr>\n",
       "      <th>CLOPIDOGREL BISULFATE</th>\n",
       "      <td>56</td>\n",
       "      <td>5236</td>\n",
       "      <td>465</td>\n",
       "      <td>25953</td>\n",
       "      <td>0.596929</td>\n",
       "      <td>0.142258</td>\n",
       "      <td>0.451680</td>\n",
       "      <td>0.788887</td>\n",
       "    </tr>\n",
       "    <tr>\n",
       "      <th>CITALOPRAM HYDROBROMIDE</th>\n",
       "      <td>4</td>\n",
       "      <td>755</td>\n",
       "      <td>517</td>\n",
       "      <td>30434</td>\n",
       "      <td>0.311876</td>\n",
       "      <td>0.503281</td>\n",
       "      <td>0.116300</td>\n",
       "      <td>0.836340</td>\n",
       "    </tr>\n",
       "    <tr>\n",
       "      <th>DIGOXIN</th>\n",
       "      <td>6</td>\n",
       "      <td>920</td>\n",
       "      <td>515</td>\n",
       "      <td>30269</td>\n",
       "      <td>0.383314</td>\n",
       "      <td>0.411981</td>\n",
       "      <td>0.170950</td>\n",
       "      <td>0.859488</td>\n",
       "    </tr>\n",
       "    <tr>\n",
       "      <th>...</th>\n",
       "      <td>...</td>\n",
       "      <td>...</td>\n",
       "      <td>...</td>\n",
       "      <td>...</td>\n",
       "      <td>...</td>\n",
       "      <td>...</td>\n",
       "      <td>...</td>\n",
       "      <td>...</td>\n",
       "    </tr>\n",
       "    <tr>\n",
       "      <th>ZOMEPIRAC SODIUM</th>\n",
       "      <td>0</td>\n",
       "      <td>0</td>\n",
       "      <td>521</td>\n",
       "      <td>31189</td>\n",
       "      <td>NaN</td>\n",
       "      <td>NaN</td>\n",
       "      <td>NaN</td>\n",
       "      <td>NaN</td>\n",
       "    </tr>\n",
       "    <tr>\n",
       "      <th>ZOTEPINE</th>\n",
       "      <td>0</td>\n",
       "      <td>0</td>\n",
       "      <td>521</td>\n",
       "      <td>31189</td>\n",
       "      <td>NaN</td>\n",
       "      <td>NaN</td>\n",
       "      <td>NaN</td>\n",
       "      <td>NaN</td>\n",
       "    </tr>\n",
       "    <tr>\n",
       "      <th>ZUCLOPENTHIXOL</th>\n",
       "      <td>0</td>\n",
       "      <td>1</td>\n",
       "      <td>521</td>\n",
       "      <td>31188</td>\n",
       "      <td>NaN</td>\n",
       "      <td>NaN</td>\n",
       "      <td>NaN</td>\n",
       "      <td>NaN</td>\n",
       "    </tr>\n",
       "    <tr>\n",
       "      <th>ZUCLOPENTHIXOL ACETATE</th>\n",
       "      <td>0</td>\n",
       "      <td>0</td>\n",
       "      <td>521</td>\n",
       "      <td>31189</td>\n",
       "      <td>NaN</td>\n",
       "      <td>NaN</td>\n",
       "      <td>NaN</td>\n",
       "      <td>NaN</td>\n",
       "    </tr>\n",
       "    <tr>\n",
       "      <th>ZUCLOPENTHIXOL DECANOATE</th>\n",
       "      <td>0</td>\n",
       "      <td>0</td>\n",
       "      <td>521</td>\n",
       "      <td>31189</td>\n",
       "      <td>NaN</td>\n",
       "      <td>NaN</td>\n",
       "      <td>NaN</td>\n",
       "      <td>NaN</td>\n",
       "    </tr>\n",
       "  </tbody>\n",
       "</table>\n",
       "<p>5417 rows × 8 columns</p>\n",
       "</div>"
      ],
      "text/plain": [
       "                          d1r1  d1r0  d0r1   d0r0       ROR        SE  \\\n",
       "LENALIDOMIDE                22  3834   499  27355  0.314562  0.218531   \n",
       "DEXAMETHASONE               20  2514   501  28675  0.455334  0.228973   \n",
       "CLOPIDOGREL BISULFATE       56  5236   465  25953  0.596929  0.142258   \n",
       "CITALOPRAM HYDROBROMIDE      4   755   517  30434  0.311876  0.503281   \n",
       "DIGOXIN                      6   920   515  30269  0.383314  0.411981   \n",
       "...                        ...   ...   ...    ...       ...       ...   \n",
       "ZOMEPIRAC SODIUM             0     0   521  31189       NaN       NaN   \n",
       "ZOTEPINE                     0     0   521  31189       NaN       NaN   \n",
       "ZUCLOPENTHIXOL               0     1   521  31188       NaN       NaN   \n",
       "ZUCLOPENTHIXOL ACETATE       0     0   521  31189       NaN       NaN   \n",
       "ZUCLOPENTHIXOL DECANOATE     0     0   521  31189       NaN       NaN   \n",
       "\n",
       "                           CI95min   CI95max  \n",
       "LENALIDOMIDE              0.204969  0.482752  \n",
       "DEXAMETHASONE             0.290686  0.713241  \n",
       "CLOPIDOGREL BISULFATE     0.451680  0.788887  \n",
       "CITALOPRAM HYDROBROMIDE   0.116300  0.836340  \n",
       "DIGOXIN                   0.170950  0.859488  \n",
       "...                            ...       ...  \n",
       "ZOMEPIRAC SODIUM               NaN       NaN  \n",
       "ZOTEPINE                       NaN       NaN  \n",
       "ZUCLOPENTHIXOL                 NaN       NaN  \n",
       "ZUCLOPENTHIXOL ACETATE         NaN       NaN  \n",
       "ZUCLOPENTHIXOL DECANOATE       NaN       NaN  \n",
       "\n",
       "[5417 rows x 8 columns]"
      ]
     },
     "execution_count": 11,
     "metadata": {},
     "output_type": "execute_result"
    }
   ],
   "source": [
    "%%time\n",
    "f._RORbyDrugAndReac('ASPIRIN', 'Hypertension', sort={'CI95max':'asc'})"
   ]
  },
  {
   "cell_type": "markdown",
   "metadata": {},
   "source": [
    "# 各レベルのラベルをリスト化しダンプファイル作成"
   ]
  },
  {
   "cell_type": "code",
   "execution_count": 68,
   "metadata": {},
   "outputs": [
    {
     "data": {
      "text/plain": [
       "(['HLGT_en.pkl',\n",
       "  'HLGT_jp.pkl',\n",
       "  'HLT_en.pkl',\n",
       "  'HLT_jp.pkl',\n",
       "  'lvl1.pkl',\n",
       "  'lvl2.pkl',\n",
       "  'lvl3.pkl',\n",
       "  'lvl4.pkl',\n",
       "  'lvl5.pkl',\n",
       "  'prod_ai.pkl',\n",
       "  'pt.pkl',\n",
       "  'PT_jp.pkl',\n",
       "  'SOC_en.pkl',\n",
       "  'SOC_jp.pkl'],\n",
       " 14)"
      ]
     },
     "execution_count": 68,
     "metadata": {},
     "output_type": "execute_result"
    }
   ],
   "source": [
    "fnames = [i for i in os.listdir(params['pkl_dir']) if i not in ['2014-19.pkl', '2019.pkl', 'cache.pkl', '.ipynb_checkpoints', '.ipynb_checkpo_labelsints']]\n",
    "fnames, len(fnames)"
   ]
  },
  {
   "cell_type": "code",
   "execution_count": 84,
   "metadata": {},
   "outputs": [
    {
     "name": "stdout",
     "output_type": "stream",
     "text": [
      "data/2015-2019/HLGT_en.pkl > data/2015-2019/HLGT_en_labels.pkl\n",
      "data/2015-2019/HLGT_jp.pkl > data/2015-2019/HLGT_jp_labels.pkl\n",
      "data/2015-2019/HLT_en.pkl > data/2015-2019/HLT_en_labels.pkl\n",
      "data/2015-2019/HLT_jp.pkl > data/2015-2019/HLT_jp_labels.pkl\n",
      "data/2015-2019/lvl1.pkl > data/2015-2019/lvl1_labels.pkl\n",
      "data/2015-2019/lvl2.pkl > data/2015-2019/lvl2_labels.pkl\n",
      "data/2015-2019/lvl3.pkl > data/2015-2019/lvl3_labels.pkl\n",
      "data/2015-2019/lvl4.pkl > data/2015-2019/lvl4_labels.pkl\n",
      "data/2015-2019/lvl5.pkl > data/2015-2019/lvl5_labels.pkl\n",
      "data/2015-2019/prod_ai.pkl > data/2015-2019/prod_ai_labels.pkl\n",
      "data/2015-2019/pt.pkl > data/2015-2019/pt_labels.pkl\n",
      "data/2015-2019/PT_jp.pkl > data/2015-2019/PT_jp_labels.pkl\n",
      "data/2015-2019/SOC_en.pkl > data/2015-2019/SOC_en_labels.pkl\n",
      "data/2015-2019/SOC_jp.pkl > data/2015-2019/SOC_jp_labels.pkl\n",
      "CPU times: user 1.12 s, sys: 4.67 s, total: 5.79 s\n",
      "Wall time: 17.1 s\n"
     ]
    }
   ],
   "source": [
    "%%time\n",
    "for j in fnames:\n",
    "    inname = params['pkl_dir'] + j\n",
    "    outname = inname[:-4] + '_labels' + inname[-4:]\n",
    "    print(inname + ' > ' + outname)\n",
    "    labels = f._pickle_load(inname)[1]\n",
    "    f._pickle_dump(labels, outname)"
   ]
  },
  {
   "cell_type": "code",
   "execution_count": 80,
   "metadata": {},
   "outputs": [
    {
     "name": "stdout",
     "output_type": "stream",
     "text": [
      "CPU times: user 787 µs, sys: 4.33 ms, total: 5.11 ms\n",
      "Wall time: 73.7 ms\n"
     ]
    },
    {
     "data": {
      "text/plain": [
       "[Abacavir, Abarelix, Abatacept, Abciximab, Abemaciclib, ..., Zotepine, Zucapsaicin, Zuclopenthixol, von Willebrand factor, _NoCategories]\n",
       "Length: 2413\n",
       "Categories (2413, object): [Abacavir, Abarelix, Abatacept, Abciximab, ..., Zucapsaicin, Zuclopenthixol, von Willebrand factor, _NoCategories]"
      ]
     },
     "execution_count": 80,
     "metadata": {},
     "output_type": "execute_result"
    }
   ],
   "source": [
    "%%time\n",
    "f._pickle_load('data/2015-2021Q2/lvl5_labels.pkl')"
   ]
  },
  {
   "cell_type": "code",
   "execution_count": 71,
   "metadata": {},
   "outputs": [
    {
     "name": "stdout",
     "output_type": "stream",
     "text": [
      "269 ms ± 3.22 ms per loop (mean ± std. dev. of 7 runs, 1 loop each)\n"
     ]
    }
   ],
   "source": [
    "%%timeit\n",
    "f._pickle_load('data/2015-2019/pt.pkl')[1]"
   ]
  },
  {
   "cell_type": "code",
   "execution_count": 21,
   "metadata": {},
   "outputs": [],
   "source": [
    "df = f.DRUG[['primaryid', 'prod_ai']] \\\n",
    "                                 .fillna('_NoCategories') \\\n",
    "                                 .drop_duplicates() \\\n",
    "                                 .reset_index(drop=True)"
   ]
  },
  {
   "cell_type": "code",
   "execution_count": 23,
   "metadata": {},
   "outputs": [],
   "source": [
    "result = f.to_sparseMatrix(df, 'primaryid', 'prod_ai')"
   ]
  },
  {
   "cell_type": "code",
   "execution_count": 25,
   "metadata": {},
   "outputs": [
    {
     "data": {
      "text/plain": [
       "(<606336x5417 sparse matrix of type '<class 'numpy.int64'>'\n",
       " \twith 1691093 stored elements in Compressed Sparse Column format>,\n",
       " ['(1-743)-(1638-2332)-BLOOD-COAGULATION FACTOR ..., '.ALPHA.-GLUCOSE-1-PHOSPHATE', '.ALPHA.-LIPOIC ACID', '.ALPHA.-LIPOIC ACID, (+/-)-', '.ALPHA.-LIPOIC ACID\\GREEN TEA LEAF\\QUERCETIN\\..., ..., 'ZOPICLONE', 'ZOTEPINE', 'ZUCLOPENTHIXOL', 'ZUCLOPENTHIXOL ACETATE', 'ZUCLOPENTHIXOL DECANOATE']\n",
       " Length: 5417\n",
       " Categories (5418, object): ['(1-743)-(1638-2332)-BLOOD-COAGULATION FACTOR ..., '.ALPHA.-GLUCOSE-1-PHOSPHATE', '.ALPHA.-LIPOIC ACID', '.ALPHA.-LIPOIC ACID, (+/-)-', ..., 'ZUCLOPENTHIXOL', 'ZUCLOPENTHIXOL ACETATE', 'ZUCLOPENTHIXOL DECANOATE', '_NoCategories'],\n",
       " array([  35032933,   36357913,   36587153, ..., 1105108210, 1108244810,\n",
       "        1109972810]))"
      ]
     },
     "execution_count": 25,
     "metadata": {},
     "output_type": "execute_result"
    }
   ],
   "source": [
    "result"
   ]
  },
  {
   "cell_type": "code",
   "execution_count": 30,
   "metadata": {},
   "outputs": [
    {
     "ename": "AttributeError",
     "evalue": "head not found",
     "output_type": "error",
     "traceback": [
      "\u001b[0;31m---------------------------------------------------------------------------\u001b[0m",
      "\u001b[0;31mAttributeError\u001b[0m                            Traceback (most recent call last)",
      "\u001b[0;32m/tmp/ipykernel_2236/431822248.py\u001b[0m in \u001b[0;36m<module>\u001b[0;34m\u001b[0m\n\u001b[0;32m----> 1\u001b[0;31m \u001b[0mresult\u001b[0m\u001b[0;34m[\u001b[0m\u001b[0;36m0\u001b[0m\u001b[0;34m]\u001b[0m\u001b[0;34m.\u001b[0m\u001b[0mhead\u001b[0m\u001b[0;34m(\u001b[0m\u001b[0;34m)\u001b[0m\u001b[0;34m\u001b[0m\u001b[0;34m\u001b[0m\u001b[0m\n\u001b[0m",
      "\u001b[0;32m~/miniconda3/lib/python3.7/site-packages/scipy/sparse/base.py\u001b[0m in \u001b[0;36m__getattr__\u001b[0;34m(self, attr)\u001b[0m\n\u001b[1;32m    685\u001b[0m             \u001b[0;32mreturn\u001b[0m \u001b[0mself\u001b[0m\u001b[0;34m.\u001b[0m\u001b[0mgetnnz\u001b[0m\u001b[0;34m(\u001b[0m\u001b[0;34m)\u001b[0m\u001b[0;34m\u001b[0m\u001b[0;34m\u001b[0m\u001b[0m\n\u001b[1;32m    686\u001b[0m         \u001b[0;32melse\u001b[0m\u001b[0;34m:\u001b[0m\u001b[0;34m\u001b[0m\u001b[0;34m\u001b[0m\u001b[0m\n\u001b[0;32m--> 687\u001b[0;31m             \u001b[0;32mraise\u001b[0m \u001b[0mAttributeError\u001b[0m\u001b[0;34m(\u001b[0m\u001b[0mattr\u001b[0m \u001b[0;34m+\u001b[0m \u001b[0;34m\" not found\"\u001b[0m\u001b[0;34m)\u001b[0m\u001b[0;34m\u001b[0m\u001b[0;34m\u001b[0m\u001b[0m\n\u001b[0m\u001b[1;32m    688\u001b[0m \u001b[0;34m\u001b[0m\u001b[0m\n\u001b[1;32m    689\u001b[0m     \u001b[0;32mdef\u001b[0m \u001b[0mtranspose\u001b[0m\u001b[0;34m(\u001b[0m\u001b[0mself\u001b[0m\u001b[0;34m,\u001b[0m \u001b[0maxes\u001b[0m\u001b[0;34m=\u001b[0m\u001b[0;32mNone\u001b[0m\u001b[0;34m,\u001b[0m \u001b[0mcopy\u001b[0m\u001b[0;34m=\u001b[0m\u001b[0;32mFalse\u001b[0m\u001b[0;34m)\u001b[0m\u001b[0;34m:\u001b[0m\u001b[0;34m\u001b[0m\u001b[0;34m\u001b[0m\u001b[0m\n",
      "\u001b[0;31mAttributeError\u001b[0m: head not found"
     ]
    }
   ],
   "source": [
    "result[0].head()"
   ]
  },
  {
   "cell_type": "code",
   "execution_count": 28,
   "metadata": {},
   "outputs": [
    {
     "data": {
      "text/plain": [
       "['(1-743)-(1638-2332)-BLOOD-COAGULATION FACTOR ..., '.ALPHA.-GLUCOSE-1-PHOSPHATE', '.ALPHA.-LIPOIC ACID', '.ALPHA.-LIPOIC ACID, (+/-)-', '.ALPHA.-LIPOIC ACID\\GREEN TEA LEAF\\QUERCETIN\\..., ..., 'ZOPICLONE', 'ZOTEPINE', 'ZUCLOPENTHIXOL', 'ZUCLOPENTHIXOL ACETATE', 'ZUCLOPENTHIXOL DECANOATE']\n",
       "Length: 5417\n",
       "Categories (5418, object): ['(1-743)-(1638-2332)-BLOOD-COAGULATION FACTOR ..., '.ALPHA.-GLUCOSE-1-PHOSPHATE', '.ALPHA.-LIPOIC ACID', '.ALPHA.-LIPOIC ACID, (+/-)-', ..., 'ZUCLOPENTHIXOL', 'ZUCLOPENTHIXOL ACETATE', 'ZUCLOPENTHIXOL DECANOATE', '_NoCategories']"
      ]
     },
     "execution_count": 28,
     "metadata": {},
     "output_type": "execute_result"
    }
   ],
   "source": [
    "result[1]"
   ]
  },
  {
   "cell_type": "code",
   "execution_count": 29,
   "metadata": {},
   "outputs": [
    {
     "data": {
      "text/plain": [
       "array([  35032933,   36357913,   36587153, ..., 1105108210, 1108244810,\n",
       "       1109972810])"
      ]
     },
     "execution_count": 29,
     "metadata": {},
     "output_type": "execute_result"
    }
   ],
   "source": [
    "result[2]"
   ]
  },
  {
   "cell_type": "code",
   "execution_count": 38,
   "metadata": {},
   "outputs": [
    {
     "data": {
      "text/plain": [
       "['(1-743)-(1638-2332)-BLOOD-COAGULATION FACTOR ..., '.ALPHA.-GLUCOSE-1-PHOSPHATE', '.ALPHA.-LIPOIC ACID', '.ALPHA.-LIPOIC ACID, (+/-)-', '.ALPHA.-LIPOIC ACID\\GREEN TEA LEAF\\QUERCETIN\\..., ..., 'ZOPICLONE', 'ZOTEPINE', 'ZUCLOPENTHIXOL', 'ZUCLOPENTHIXOL ACETATE', 'ZUCLOPENTHIXOL DECANOATE']\n",
       "Length: 5417\n",
       "Categories (5418, object): ['(1-743)-(1638-2332)-BLOOD-COAGULATION FACTOR ..., '.ALPHA.-GLUCOSE-1-PHOSPHATE', '.ALPHA.-LIPOIC ACID', '.ALPHA.-LIPOIC ACID, (+/-)-', ..., 'ZUCLOPENTHIXOL', 'ZUCLOPENTHIXOL ACETATE', 'ZUCLOPENTHIXOL DECANOATE', '_NoCategories']"
      ]
     },
     "execution_count": 38,
     "metadata": {},
     "output_type": "execute_result"
    }
   ],
   "source": [
    "f._pickle_load('data/pkl/test/prod_ai.pkl')[1]"
   ]
  },
  {
   "cell_type": "code",
   "execution_count": 41,
   "metadata": {},
   "outputs": [
    {
     "data": {
      "text/plain": [
       "array([[0, 0, 0, ..., 0, 0, 0],\n",
       "       [0, 0, 0, ..., 0, 0, 0],\n",
       "       [0, 0, 0, ..., 0, 0, 0],\n",
       "       ...,\n",
       "       [0, 0, 0, ..., 0, 0, 0],\n",
       "       [0, 0, 0, ..., 0, 0, 0],\n",
       "       [0, 0, 0, ..., 0, 0, 0]])"
      ]
     },
     "execution_count": 41,
     "metadata": {},
     "output_type": "execute_result"
    }
   ],
   "source": [
    "result[0][:10].toarray()"
   ]
  }
 ],
 "metadata": {
  "kernelspec": {
   "display_name": "Python 3 (ipykernel)",
   "language": "python",
   "name": "python3"
  },
  "language_info": {
   "codemirror_mode": {
    "name": "ipython",
    "version": 3
   },
   "file_extension": ".py",
   "mimetype": "text/x-python",
   "name": "python",
   "nbconvert_exporter": "python",
   "pygments_lexer": "ipython3",
   "version": "3.7.6"
  },
  "toc-autonumbering": true
 },
 "nbformat": 4,
 "nbformat_minor": 4
}
